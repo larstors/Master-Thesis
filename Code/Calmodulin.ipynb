{
 "cells": [
  {
   "cell_type": "code",
   "execution_count": 1,
   "metadata": {},
   "outputs": [],
   "source": [
    "import numpy as np\n",
    "import matplotlib.pyplot as plt\n",
    "import matplotlib as mpl\n",
    "import scipy as sc\n",
    "import numpy.random as rn\n",
    "import networkx as nx\n",
    "import my_networkx as my_nx\n",
    "import frame as frame\n",
    "from numba import jit, njit, prange\n",
    "import scipy.linalg as la\n",
    "\n",
    "\n",
    "mpl.rcParams.update({'font.size': 25})"
   ]
  },
  {
   "cell_type": "code",
   "execution_count": null,
   "metadata": {},
   "outputs": [],
   "source": []
  },
  {
   "cell_type": "code",
   "execution_count": 2,
   "metadata": {},
   "outputs": [
    {
     "name": "stdout",
     "output_type": "stream",
     "text": [
      "0.00   1.00   0.00   1.00   1.00   0.00   \n",
      "\n",
      "1.00   0.00   1.00   0.00   0.00   1.00   \n",
      "\n",
      "0.00   1.00   0.00   0.00   0.00   0.00   \n",
      "\n",
      "1.00   0.00   0.00   0.00   0.00   0.00   \n",
      "\n",
      "1.00   0.00   0.00   0.00   0.00   1.00   \n",
      "\n",
      "0.00   1.00   0.00   0.00   1.00   0.00   \n",
      "\n"
     ]
    }
   ],
   "source": [
    "# size of network\n",
    "N = 6\n",
    "\n",
    "# adjacency matrix\n",
    "A = np.array([[0, 1, 0, 1, 1, 0], [1, 0, 1, 0, 0, 1], [0, 1, 0, 0, 0, 0], [1, 0, 0, 0, 0, 0], [1, 0, 0, 0, 0, 1], [0, 1, 0, 0, 1, 0]])\n",
    "frame.printMatrix(A)"
   ]
  },
  {
   "cell_type": "code",
   "execution_count": 3,
   "metadata": {},
   "outputs": [
    {
     "name": "stdout",
     "output_type": "stream",
     "text": [
      "-34.77   0.77   0.00   127.97   0.12   0.00   \n",
      "\n",
      "6.00   -1529.03   53.07   0.00   0.00   2.92   \n",
      "\n",
      "0.00   1514.82   -53.07   0.00   0.00   0.00   \n",
      "\n",
      "13.44   0.00   0.00   -127.97   0.00   0.00   \n",
      "\n",
      "15.33   0.00   0.00   0.00   -3.87   13.33   \n",
      "\n",
      "0.00   13.44   0.00   0.00   3.75   -16.25   \n",
      "\n"
     ]
    }
   ],
   "source": [
    "# master operator, values from Rick in SuppMat\n",
    "L = np.zeros((N, N))\n",
    "# fill with values\n",
    "L[0, 1] = 5.997\n",
    "L[1, 0] = 0.774\n",
    "\n",
    "L[0, 3] = 13.439\n",
    "L[3, 0] = 127.968\n",
    "\n",
    "L[0, 4] = 15.330\n",
    "L[4, 0] = 0.121\n",
    "\n",
    "L[4, 5] = 3.749\n",
    "L[5, 4] = 13.326\n",
    "\n",
    "L[1, 2] = 1514.820\n",
    "L[2, 1] = 53.0661\n",
    "\n",
    "L[1, 5] = 13.441\n",
    "L[5, 1] = 2.922\n",
    "\n",
    "L = L.T\n",
    "\n",
    "#diagonal elements\n",
    "for i in range(N):\n",
    "    L[i,i] = -np.sum(L[:, i])\n",
    "\n",
    "\n",
    "frame.printMatrix(L)"
   ]
  },
  {
   "cell_type": "code",
   "execution_count": 4,
   "metadata": {},
   "outputs": [
    {
     "name": "stdout",
     "output_type": "stream",
     "text": [
      "[-1.58165132e+03+0.j -1.43749631e+02+0.j -1.98531625e+01+0.j\n",
      " -1.86991129e+01+0.j  1.53222889e-13+0.j -9.99871767e-01+0.j]\n",
      "1.0\n",
      "[2.54859615e-03 1.97475509e-02 5.63711767e-01 2.67649597e-04\n",
      " 3.22886823e-01 9.08376128e-02]\n",
      "[1.53222889e-13 9.99871767e-01 1.86991129e+01 1.98531625e+01\n",
      " 1.43749631e+02 1.58165132e+03]\n"
     ]
    }
   ],
   "source": [
    "# find eigenvalues and eigenvectors\n",
    "ew, ev = sc.linalg.eig(L)\n",
    "print(ew)\n",
    "# frame.printMatrix(ev)\n",
    "\n",
    "# relevant eigenvector has eigenvalue 0\n",
    "peq = ev[:, 4]\n",
    "# print(peq)\n",
    "\n",
    "# need to \"normalise\" it such that sum of entries is 1\n",
    "\n",
    "Z = np.sum(peq)\n",
    "# print(Z)\n",
    "peq = peq / Z\n",
    "\n",
    "print(np.sum(peq))\n",
    "\n",
    "print(peq)\n",
    "\n",
    "print(np.sort(np.abs(ew)))"
   ]
  },
  {
   "cell_type": "code",
   "execution_count": 5,
   "metadata": {},
   "outputs": [
    {
     "name": "stdout",
     "output_type": "stream",
     "text": [
      "0.01528 \t 0.01528 \t 0.99996\n",
      "0.03425 \t 0.03425 \t 1.00000\n",
      "0.03907 \t 0.03907 \t 1.00002\n",
      "0.01528 \t 0.01528 \t 1.00004\n",
      "29.91399 \t 29.91399 \t 1.00000\n",
      "0.26543 \t 0.26543 \t 1.00000\n",
      "29.91399 \t 29.91399 \t 1.00000\n",
      "0.03425 \t 0.03425 \t 1.00000\n",
      "0.03907 \t 0.03907 \t 0.99998\n",
      "1.21050 \t 1.21050 \t 1.00000\n",
      "0.26543 \t 0.26543 \t 1.00000\n",
      "1.21050 \t 1.21050 \t 1.00000\n"
     ]
    }
   ],
   "source": [
    "# check for DB\n",
    "for i in range(N):\n",
    "    for j in range(N):\n",
    "        if A[i, j] == 1:\n",
    "            print(\"%.5f \\t %.5f \\t %.5f\" % (L[i, j]*peq[j], L[j, i]*peq[i], L[j, i]*peq[i] / (L[i, j]*peq[j])))"
   ]
  },
  {
   "cell_type": "code",
   "execution_count": 6,
   "metadata": {},
   "outputs": [],
   "source": [
    "# initial distribution\n",
    "initial_p = np.array([0, 0, 0, 0, 0, 1])\n",
    "\n",
    "# # initialise class\n",
    "# system = frame.JumpProcessMasterEquation(N, initial_p, L, 100)"
   ]
  },
  {
   "cell_type": "code",
   "execution_count": 7,
   "metadata": {},
   "outputs": [],
   "source": [
    "@jit\n",
    "def master_eq_evolution(t:float, L: np.ndarray, initial_dist):\n",
    "        \n",
    "        propagator = la.expm(L * t)\n",
    "\n",
    "        return np.matmul(propagator, initial_dist)\n",
    "\n",
    "def initial_state(initial_p, states):\n",
    "    \"\"\"Function to randomly determine initial condition given a initial distribution\n",
    "\n",
    "    Returns:\n",
    "        int: (random) initial state\n",
    "    \"\"\"\n",
    "    n_0 = rn.choice(states, 1, p=initial_p)\n",
    "\n",
    "    return n_0[0]\n",
    "\n",
    "@njit\n",
    "def Trajectory_sample(init_state: int, final_time: float, L: np.ndarray):\n",
    "    \n",
    "    # list with states in it\n",
    "    trajectory = [init_state]\n",
    "    I = init_state\n",
    "    # list of transition times to the next respective states\n",
    "    state_time = []\n",
    "\n",
    "    Gamma = -np.diag(L)\n",
    "\n",
    "    N = len(L)\n",
    "    # print(transition_matrix[trajectory[-1]-1, trajectory[-1]-1])\n",
    "    # start at time 0\n",
    "    tau = 0\n",
    "    while tau <= final_time:\n",
    "        # draw the escape time according to an exponential distribution\n",
    "        # note that the index for states starts at 1, hence we have to subtract to get the appropriate index\n",
    "        r1, r2 = np.random.uniform(0,1, 2)\n",
    "\n",
    "        temp = 0\n",
    "\n",
    "        for J in range(N):\n",
    "            if J == I:\n",
    "                p_ij = 0\n",
    "            else:\n",
    "                p_ij = L[J][I] / (-L[I][I])\n",
    "            \n",
    "            temp += p_ij\n",
    "\n",
    "            if temp >= r2:\n",
    "                tau += -np.log(r1) / Gamma[I]\n",
    "                I = J\n",
    "                trajectory.append(I)\n",
    "                state_time.append(tau)\n",
    "                break\n",
    "            else:\n",
    "                continue\n",
    "\n",
    "    return np.asarray(trajectory), np.asarray(state_time)\n",
    "\n",
    "\n",
    "@njit(parallel=True)\n",
    "def current_sample(n_sample:int, time: np.ndarray, init_state:int, L:np.ndarray, d: np.ndarray):\n",
    "    tmax = time[-1]\n",
    "    dt = time[1] - time[0] # assume all dt are the same\n",
    "    nt = len(time)\n",
    "\n",
    "    J = np.zeros((n_sample, nt-1))\n",
    "\n",
    "    # n_sample amout of samples\n",
    "    for i in prange(n_sample):\n",
    "        traj, t_time = Trajectory_sample(init_state, tmax, L)\n",
    "        for t in prange(1, nt):\n",
    "            index = np.where(t_time <= time[t])[0]\n",
    "            for j in index:\n",
    "                J[i, t-1] += d[traj[j], traj[j+1]]\n",
    "\n",
    "    J_mean = np.zeros(nt-1)\n",
    "    J_var = np.zeros(nt-1)\n",
    "\n",
    "    # calculate mean and variance\n",
    "    for t in prange(1, nt):\n",
    "        J_mean[t-1] = np.mean(J[:, t-1])\n",
    "        J_var[t-1] = np.var(J[:, t-1])\n",
    "    print(\"############# SAMPLE DONE ################\")\n",
    "\n",
    "            \n",
    "    return J_mean, J_var\n",
    "\n",
    "# TODO check if matches theory\n",
    "@njit(parallel=True)\n",
    "def current_covariance_sample(n_sample:int, time: np.ndarray, init_state:np.ndarray, L:np.ndarray, d1: np.ndarray, d2: np.ndarray):\n",
    "    tmax = time[-1]\n",
    "    nt = len(time)\n",
    "\n",
    "    J1 = np.zeros((n_sample, nt-1))\n",
    "    J2 = np.zeros((n_sample, nt-1))\n",
    "\n",
    "    # n_sample amout of samples\n",
    "    for i in prange(n_sample):\n",
    "        traj, t_time = Trajectory_sample(init_state[i], tmax, L)\n",
    "        for t in prange(1, nt):\n",
    "            index = np.where(t_time <= time[t])[0]\n",
    "            for j in index:\n",
    "                J1[i, t-1] += d1[traj[j], traj[j+1]]\n",
    "                J2[i, t-1] += d2[traj[j], traj[j+1]]\n",
    "\n",
    "    J1_mean = np.zeros(nt-1)\n",
    "    J2_mean = np.zeros(nt-1)\n",
    "    J_cov = np.zeros(nt-1)\n",
    "\n",
    "    # calculate mean and variance\n",
    "    for t in prange(1, nt):\n",
    "        J1_mean[t-1] = np.mean(J1[:, t-1])\n",
    "        J2_mean[t-1] = np.mean(J2[:, t-1])\n",
    "        J_cov[t-1] = np.cov(J1[:, t-1], J2[:, t-1])[0, -1]\n",
    "    print(\"############# SAMPLE DONE ################\")\n",
    "\n",
    "            \n",
    "    return J1_mean, J2_mean, J_cov\n",
    "\n",
    "# TODO check if it matches theory, also for mean and variance of density, but especially for covariance\n",
    "@njit(parallel=True)\n",
    "def current_density_sample(n_sample:int, time: np.ndarray, init_state:int, L:np.ndarray, d: np.ndarray, V: np.ndarray):\n",
    "    tmax = time[-1]\n",
    "    dt = time[1] - time[0] # assume all dt are the same\n",
    "    nt = len(time)\n",
    "\n",
    "    J = np.zeros((n_sample, nt-1))\n",
    "    rho = np.zeros((n_sample, nt - 1))\n",
    "\n",
    "    # n_sample amout of samples\n",
    "    for i in prange(n_sample):\n",
    "        traj, t_time = Trajectory_sample(init_state[i], tmax, L)\n",
    "        for t in prange(1, nt):\n",
    "            index = np.where(t_time <= time[t])[0]\n",
    "            for j in index:\n",
    "                J[i, t-1] += d[traj[j], traj[j+1]]\n",
    "                if j == 0:\n",
    "                    rho[i, t-1] += V[traj[j]] * t_time[j]\n",
    "                else: \n",
    "                    rho[i, t-1] += V[traj[j]] * (t_time[j] - t_time[j-1])\n",
    "            \n",
    "            if len(index) == 0:\n",
    "                rho[i, t-1] += traj[0] * time[t]\n",
    "            else:\n",
    "                rho[i, t-1] += V[traj[index[-1]+1]] * (time[t] - t_time[index[-1]])\n",
    "    \n",
    "    rho_mean = np.zeros(nt-1)\n",
    "    rho_var = np.zeros(nt-1)\n",
    "    J_mean = np.zeros(nt-1)\n",
    "    J_var = np.zeros(nt-1)\n",
    "\n",
    "    rhoJ_cov = np.zeros(nt-1)\n",
    "\n",
    "\n",
    "    # calculate mean and variance\n",
    "    for t in prange(1, nt):\n",
    "        J_mean[t-1] = np.mean(J[:, t-1])\n",
    "        rho_mean[t-1] = np.mean(rho[:, t-1]) / time[t]\n",
    "\n",
    "        cov = np.cov(J[:, t-1], rho[:, t-1])\n",
    "\n",
    "        J_var[t-1] = cov[0, 0]\n",
    "        rho_var[t-1] = cov[1, 1]\n",
    "\n",
    "        rhoJ_cov[t-1] = cov[0, 1]\n",
    "    print(\"############# SAMPLE DONE ################\")\n",
    "\n",
    "            \n",
    "    return J_mean, J_var, rho_mean, rho_var, rhoJ_cov\n",
    "\n",
    "\n",
    "\n",
    "\n",
    "\n"
   ]
  },
  {
   "cell_type": "code",
   "execution_count": 30,
   "metadata": {},
   "outputs": [],
   "source": [
    "\n",
    "@njit()\n",
    "def analytic_time2(d, L, time, A, initial_p, n_time, d2, V, V2, eig, U):\n",
    "    # @njit\n",
    "    def sum_func_2(N_max, p_1, dt):\n",
    "        mean = 0\n",
    "        mean2 = 0\n",
    "        var = 0\n",
    "        S = 0\n",
    "        an_A = 0\n",
    "        rho_m = 0\n",
    "        for i in prange(N_max):\n",
    "            rho_m += dt * V[i] * p_1[i]\n",
    "            for j in prange(N_max):\n",
    "                mean += dt * p_1[i] * d[i, j] * L[j, i]\n",
    "                mean2 += dt * p_1[i] * d2[i, j] * L[j, i]\n",
    "                var += dt * p_1[i] * d[i, j] * d2[i, j] * L[j, i]\n",
    "                if A[i, j] == 1:\n",
    "                    S += dt * p_1[i] *  L[j, i] * np.log((p_1[i] *  L[j, i]) / (p_1[j] *  L[i, j]))\n",
    "                    an_A += dt / 2 * (p_1[i] *  L[j, i] - p_1[j] *  L[i, j]) ** 2 / (p_1[i] *  L[j, i] + p_1[j] *  L[i, j])\n",
    "        return mean, mean2, var, S, an_A, rho_m\n",
    "\n",
    "    # @njit\n",
    "    def sum_func_1(N_max, Prop, p_2, dt):\n",
    "        var = 0\n",
    "        var2 = 0\n",
    "        \n",
    "        r_cov = 0\n",
    "        for i in prange(N_max):\n",
    "            for j in prange(N_max):\n",
    "                dummy = 0\n",
    "                dummy2 = 0  \n",
    "                r_cov += V[i] * V2[j] * (Prop[j, i] * p_2[i] + Prop[i, j] * p_2[j]) * dt ** 2\n",
    "                for m in prange(N_max):\n",
    "                    for n in prange(N_max):                                        \n",
    "                        dummy += d[m,n] * L[n, m] * (p_2[m] * Prop[i, n] + p_2[i] * Prop[m, j])\n",
    "                        dummy2 += d[m, n] * L[n, m] * p_2[m] * Prop[i, n]\n",
    "                var +=  dummy * d2[i, j] * L[j, i] * dt ** 2\n",
    "                var2 += 2 * dummy2 * d[i, j] * L[j, i] * dt ** 2\n",
    "\n",
    "        return var, r_cov, var2\n",
    "\n",
    "\n",
    "    U = U.astype(np.float32)\n",
    "    Uinv = np.linalg.inv(U).astype(np.float32)\n",
    "    \n",
    "    nt = len(time)\n",
    "    \n",
    "    # Observables to calculate\n",
    "    an_Jmean1 = np.zeros(nt-1)\n",
    "    an_Jmean2 = np.zeros(nt-1)\n",
    "\n",
    "    an_Jmean = np.zeros(nt-1)\n",
    "    an_S = np.zeros(nt-1)\n",
    "    an_A = np.zeros(nt-1)\n",
    "    rho_mean = np.zeros(nt-1)\n",
    "    rho_cov = np.zeros(nt-1)\n",
    "    Jrho_cov = np.zeros(nt-1)\n",
    "    J_cov = np.zeros(nt-1)\n",
    "    J_cov2 = np.zeros(nt-1)\n",
    "    \n",
    "    # number of states\n",
    "    N = len(initial_p)\n",
    "\n",
    "    # calculate observables\n",
    "    for t in prange(1, nt):\n",
    "        dt = time[t] / n_time\n",
    "        exp_eig1 = np.diag(np.exp(eig  * dt)).astype(np.float32)\n",
    "        propagator = np.dot(U, np.dot(exp_eig1, Uinv))\n",
    "        p = initial_p.astype(np.float32)\n",
    "        print(t)\n",
    "        for k in prange(n_time):\n",
    "            p = np.dot(propagator, p)\n",
    "            for i in prange(N):\n",
    "                rho_mean[t-1] += dt * V[i] * p[i]\n",
    "                for j in prange(N):\n",
    "                    an_Jmean1[t-1] += dt * p[i] * d[i, j] * L[j, i]\n",
    "                    an_Jmean2[t-1] += dt * p[i] * d2[i, j] * L[j, i]\n",
    "                    J_cov[t-1] += dt * p[i] * d[i, j] * d2[i, j] * L[j, i]\n",
    "                    J_cov2[t-1] += dt * p[i] * d[i, j] ** 2 * L[j, i]\n",
    "                    if A[i, j] == 1:\n",
    "                        an_S[t-1] += dt * p[i] *  L[j, i] * np.log((p[i] *  L[j, i]) / (p[j] *  L[i, j]))\n",
    "                        an_A[t-1] += dt / 2 * (p[i] *  L[j, i] - p[j] *  L[i, j]) ** 2 / (p[i] *  L[j, i] + p[j] *  L[i, j])\n",
    "            m, m2, w, s, a, r = sum_func_2(N, p, dt)\n",
    "            an_Jmean[t-1] += m\n",
    "            for ti in prange(k):\n",
    "                exp_eig2 = np.diag(np.exp(eig * (ti) * dt)).astype(np.float32)\n",
    "                exp_eig3 = np.diag(np.exp(eig * (k - ti) * dt)).astype(np.float32)\n",
    "                prop2 = np.dot(U, np.dot(exp_eig2, Uinv))\n",
    "                prop3 = np.dot(U, np.dot(exp_eig3, Uinv))\n",
    "                p_m = np.dot(prop2, initial_p.astype(np.float32))\n",
    "                Jw, rw, ww = sum_func_1(N, prop3, p_m, dt)\n",
    "                J_cov[t-1] += Jw\n",
    "                rho_cov[t-1] += rw / time[t] ** 2\n",
    "                J_cov2[t-1] += ww\n",
    "\n",
    "    return an_Jmean1, an_Jmean2 , J_cov - an_Jmean1 * an_Jmean2, an_S, an_A, J_cov2 - an_Jmean1 * an_Jmean2, an_Jmean\n",
    "\n",
    "A = np.array([[0, 1, 0, 1, 1, 0], [1, 0, 1, 0, 0, 1], [0, 1, 0, 0, 0, 0], [1, 0, 0, 0, 0, 0], [1, 0, 0, 0, 0, 1], [0, 1, 0, 0, 1, 0]])\n",
    "\n",
    "d_matrix = np.array([[0, 1, 0, 0, 0, 0], [-1, 0, 0, 0, 0, 0], [0, 0, 0, 0, 0, 0], [0, 0, 0, 0, 0, 0], [0, 0, 0, 0, 0, 0], [0, 0, 0, 0, 0, 0]])\n",
    "\n",
    "\n",
    "initial_p = np.array([0, 0, 0, 0, 0, 1])\n",
    "states = np.arange(0, 6)\n",
    "\n",
    "init_state = initial_state(initial_p, states)\n",
    "\n",
    "time = np.linspace(0, 5, 150)\n",
    "\n",
    "t1 = np.linspace(0, 5, 15)\n",
    "ew, U = np.linalg.eig(L)\n",
    "\n",
    "U = U.astype(np.float32)\n",
    "Uinv = np.linalg.inv(U).astype(np.float32)\n",
    "exp_eig1 = np.diag(np.exp(ew  * 0.5)).astype(np.float32)\n",
    "frame.printMatrix(np.dot(U, np.dot(exp_eig1, Uinv)))\n",
    "\n",
    "print(\"###############################################\")\n",
    "\n",
    "frame.printMatrix(sc.linalg.expm(0.5*L))\n"
   ]
  },
  {
   "cell_type": "code",
   "execution_count": 31,
   "metadata": {},
   "outputs": [
    {
     "name": "stdout",
     "output_type": "stream",
     "text": [
      "1\n",
      "2\n",
      "3\n",
      "4\n",
      "5\n",
      "6\n",
      "7\n",
      "8\n",
      "9\n",
      "10\n",
      "11\n",
      "12\n",
      "13\n",
      "14\n"
     ]
    }
   ],
   "source": [
    "J1_mean1, J2_mean1, J_cov1, an_S1, an_A1, varJ1, mJ1 = analytic_time2(d_matrix, L, t1, A, initial_p, 300, d_matrix, np.ones(6), np.ones(6), ew, ev)"
   ]
  },
  {
   "cell_type": "code",
   "execution_count": 32,
   "metadata": {},
   "outputs": [
    {
     "name": "stdout",
     "output_type": "stream",
     "text": [
      "1\n",
      "2\n",
      "3\n",
      "4\n",
      "5\n",
      "6\n",
      "7\n",
      "8\n",
      "9\n",
      "10\n",
      "11\n",
      "12\n",
      "13\n",
      "14\n",
      "15\n",
      "16\n",
      "17\n",
      "18\n",
      "19\n",
      "20\n",
      "21\n",
      "22\n",
      "23\n",
      "24\n",
      "25\n",
      "26\n",
      "27\n",
      "28\n",
      "29\n",
      "30\n",
      "31\n",
      "32\n",
      "33\n",
      "34\n",
      "35\n",
      "36\n",
      "37\n",
      "38\n",
      "39\n",
      "40\n",
      "41\n",
      "42\n",
      "43\n",
      "44\n",
      "45\n",
      "46\n",
      "47\n",
      "48\n",
      "49\n",
      "50\n",
      "51\n",
      "52\n",
      "53\n",
      "54\n",
      "55\n",
      "56\n",
      "57\n",
      "58\n",
      "59\n",
      "60\n",
      "61\n",
      "62\n",
      "63\n",
      "64\n",
      "65\n",
      "66\n",
      "67\n",
      "68\n",
      "69\n",
      "70\n",
      "71\n",
      "72\n",
      "73\n",
      "74\n",
      "75\n",
      "76\n",
      "77\n",
      "78\n",
      "79\n",
      "80\n",
      "81\n",
      "82\n",
      "83\n",
      "84\n",
      "85\n",
      "86\n",
      "87\n",
      "88\n",
      "89\n",
      "90\n",
      "91\n",
      "92\n",
      "93\n",
      "94\n",
      "95\n",
      "96\n",
      "97\n",
      "98\n",
      "99\n",
      "100\n",
      "101\n",
      "102\n",
      "103\n",
      "104\n",
      "105\n",
      "106\n",
      "107\n",
      "108\n",
      "109\n",
      "110\n",
      "111\n",
      "112\n",
      "113\n",
      "114\n",
      "115\n",
      "116\n",
      "117\n",
      "118\n",
      "119\n",
      "120\n",
      "121\n",
      "122\n",
      "123\n",
      "124\n",
      "125\n",
      "126\n",
      "127\n",
      "128\n",
      "129\n",
      "130\n",
      "131\n",
      "132\n",
      "133\n",
      "134\n",
      "135\n",
      "136\n",
      "137\n",
      "138\n",
      "139\n",
      "140\n",
      "141\n",
      "142\n",
      "143\n",
      "144\n",
      "145\n",
      "146\n",
      "147\n",
      "148\n",
      "149\n"
     ]
    }
   ],
   "source": [
    "J1_mean2, J2_mean2, J_cov2, an_S2, an_A2, varJ2, mJ2 = analytic_time2(d_matrix, L, time, A, initial_p, 300, d_matrix, np.ones(6), np.ones(6), ew, ev)"
   ]
  },
  {
   "cell_type": "code",
   "execution_count": 11,
   "metadata": {},
   "outputs": [],
   "source": [
    "# np.savetxt(\"analytic_sol_ex1.txt\", [an_mean2, an_var2, an_S2, an_A2])"
   ]
  },
  {
   "cell_type": "code",
   "execution_count": 35,
   "metadata": {},
   "outputs": [
    {
     "name": "stdout",
     "output_type": "stream",
     "text": [
      "############# SAMPLE DONE ################\n"
     ]
    }
   ],
   "source": [
    "mean, var = current_sample(3000000, time, init_state, L, d_matrix)\n",
    "\n"
   ]
  },
  {
   "cell_type": "code",
   "execution_count": 24,
   "metadata": {},
   "outputs": [
    {
     "name": "stdout",
     "output_type": "stream",
     "text": [
      "############# SAMPLE DONE ################\n"
     ]
    }
   ],
   "source": [
    "mean2, var2 = current_sample(50000, time, init_state, L, d_matrix)\n",
    "\n"
   ]
  },
  {
   "cell_type": "code",
   "execution_count": 36,
   "metadata": {},
   "outputs": [
    {
     "data": {
      "image/png": "[encoded data removed]",
      "text/plain": [
       "<Figure size 864x360 with 4 Axes>"
      ]
     },
     "metadata": {
      "needs_background": "light"
     },
     "output_type": "display_data"
    }
   ],
   "source": [
    "mpl.rcParams.update({'font.size': 15})\n",
    "from mpl_toolkits.axes_grid1.inset_locator import inset_axes, InsetPosition\n",
    "\n",
    "\n",
    "fig, ax = plt.subplots(nrows=1, ncols=2, figsize=(12, 5))\n",
    "\n",
    "plt.tight_layout()\n",
    "\n",
    "\n",
    "ax[0].plot(time[1:], mean2, \"g-\", label=r\"$N_\\mathrm{sample}=5\\cdot 10^4$\", lw=2)\n",
    "ax[0].plot(time[1:], mean, \"r--\", label=r\"$N_\\mathrm{sample}=5\\cdot 10^6$\", lw=2)\n",
    "ax[0].plot(t1[1:], J1_mean1, \"bx\", label=\"Analytic\", ms=10)\n",
    "# ax[0].fill_between(time[1:], mean-np.sqrt(var), mean+np.sqrt(var),\n",
    "#     alpha=0.5, edgecolor='#CC4F1B', facecolor='#FF9848')\n",
    "\n",
    "\n",
    "\n",
    "ax[1].plot(time[1:], var2, \"g-\", label=r\"$N_\\mathrm{sample}=5\\cdot 10^4$\", lw=2)\n",
    "ax[1].plot(time[1:], var, \"r--\", label=r\"$N_\\mathrm{sample}=5\\cdot 10^6$\", lw=2)\n",
    "ax[1].plot(t1[1:], J_cov1, \"bx\", label=\"Analytic\", ms=10)\n",
    "ax[1].plot(t1[1:], varJ1, \"bx\", label=\"Analytic 2\", ms=10)\n",
    "\n",
    "\n",
    "# axins = inset_axes(ax[1], width=1.3, height=0.9, loc=2, bbox_to_anchor=(0.5,1-0.3,.3,.3), bbox_transform=ax.transAxes)\n",
    "iax1 = plt.axes([0, 0, 1, 1])\n",
    "ip = InsetPosition(ax[0], [0.6, 0.45, 0.35, 0.25]) #posx, posy, width, height\n",
    "iax1.set_axes_locator(ip)\n",
    "\n",
    "iax1.set_ylabel(r\"$\\Delta\\langle\\hat{J}_t\\rangle$\")\n",
    "iax1.set_xlabel(r\"$t$\")\n",
    "\n",
    "iax1.plot(time[1:], mean - J1_mean2, \"r--\")\n",
    "iax1.plot(time[1:], mean2 - J1_mean2, \"g-\")\n",
    "\n",
    "\n",
    "# axins = inset_axes(ax[1], width=1.3, height=0.9, loc=2, bbox_to_anchor=(0.5,1-0.3,.3,.3), bbox_transform=ax.transAxes)\n",
    "iax = plt.axes([0, 0, 0, 0])\n",
    "ip = InsetPosition(ax[1], [0.6, 0.15, 0.35, 0.25]) #posx, posy, width, height\n",
    "iax.set_axes_locator(ip)\n",
    "\n",
    "iax.set_ylabel(r\"$\\Delta \\mathrm{var}(\\hat{J}_t)$\")\n",
    "iax.set_xlabel(r\"$t$\")\n",
    "\n",
    "iax.plot(time[1:], var - J_cov2, \"r--\")\n",
    "iax.plot(time[1:], var2 - J_cov2, \"g-\")\n",
    "\n",
    "# ax[0].set_yscale(\"log\")\n",
    "# ax[1].set_yscale(\"log\")\n",
    "\n",
    "ax[0].axis([0, 5, 0, 0.02])\n",
    "ax[1].axis([0, 5, 0, 0.11])\n",
    "\n",
    "ax[0].annotate('a)', xy=(0.05, 0.018), xytext=(0.05, 0.018))\n",
    "ax[1].annotate('b)', xy=(0.05, 0.1), xytext=(0.05, 0.1))\n",
    "\n",
    "ax[0].set_ylabel(r\"$\\langle \\hat{J}_t\\rangle$\")\n",
    "ax[0].set_xlabel(r\"$t$\")\n",
    "ax[1].set_ylabel(r\"var$(\\hat{J}_t)$\")\n",
    "ax[1].set_xlabel(r\"$t$\")\n",
    "ax[0].legend(loc=\"lower right\")\n",
    "# ax[1].legend(loc=\"lower right\")\n",
    "\n",
    "\n",
    "plt.savefig(\"figures/Calmodulin_example_current.pdf\", dpi=500, bbox_inches=\"tight\")"
   ]
  },
  {
   "cell_type": "code",
   "execution_count": 34,
   "metadata": {},
   "outputs": [
    {
     "name": "stdout",
     "output_type": "stream",
     "text": [
      "[0.00688748 0.01571724 0.02420402 0.03248049 0.04063945 0.04874138\n",
      " 0.056826   0.06491953 0.0730393  0.08119669 0.08939907 0.09765116\n",
      " 0.10595582 0.11431469]\n",
      "[0.00688748 0.01571724 0.02420402 0.03248049 0.04063945 0.04874138\n",
      " 0.056826   0.06491953 0.0730393  0.08119669 0.08939907 0.09765116\n",
      " 0.10595582 0.11431469]\n",
      "[0.00413304 0.00872307 0.01194099 0.01419148 0.01576543 0.01686628\n",
      " 0.01763629 0.01817496 0.01855186 0.01881563 0.0190003  0.01912965\n",
      " 0.01922033 0.01928396] [0.00413304 0.00872307 0.01194099 0.01419148 0.01576543 0.01686628\n",
      " 0.01763629 0.01817496 0.01855186 0.01881563 0.0190003  0.01912965\n",
      " 0.01922033 0.01928396]\n",
      "[0.00413304 0.00872307 0.01194099 0.01419148 0.01576543 0.01686628\n",
      " 0.01763629 0.01817496 0.01855186 0.01881563 0.0190003  0.01912965\n",
      " 0.01922033 0.01928396]\n"
     ]
    }
   ],
   "source": [
    "print(J_cov1)\n",
    "print(varJ1)\n",
    "print(J1_mean1, J2_mean1)\n",
    "print(mJ1)"
   ]
  },
  {
   "cell_type": "code",
   "execution_count": 11,
   "metadata": {},
   "outputs": [
    {
     "name": "stdout",
     "output_type": "stream",
     "text": [
      "############# SAMPLE DONE ################\n"
     ]
    }
   ],
   "source": [
    "\n",
    "states = np.arange(0, 6)\n",
    "\n",
    "in_state = []\n",
    "\n",
    "size = 50000\n",
    "\n",
    "A = np.array([[0, 1, 0, 1, 1, 0], [1, 0, 1, 0, 0, 1], [0, 1, 0, 0, 0, 0], [1, 0, 0, 0, 0, 0], [1, 0, 0, 0, 0, 1], [0, 1, 0, 0, 1, 0]])\n",
    "d_matrix = np.array([[0, 1, 0, 0, 0, 0], [-1, 0, 0, 0, 0, 0], [0, 0, 0, 0, 0, 0], [0, 0, 0, 0, 0, 0], [0, 0, 0, 0, 0, 0], [0, 0, 0, 0, 0, 0]])\n",
    "d2_matrix = np.array([[0, 0, 0, 0, 0, 0], [0, 0, 0, 0, 0, 0], [0, 0, 0, 0, 0, 0], [0, 0, 0, 0, 0, 0], [0, 0, 0, 0, 0, 1], [0, 0, 0, 0, -1, 0]])\n",
    "\n",
    "\n",
    "\n",
    "for i in range(size):\n",
    "    in_state.append(initial_state(peq, states))\n",
    "\n",
    "\n",
    "\n",
    "J1_mean, J2_mean, J_cov = current_covariance_sample(size, time, in_state, L, d_matrix, d2_matrix)"
   ]
  },
  {
   "cell_type": "code",
   "execution_count": 12,
   "metadata": {},
   "outputs": [
    {
     "data": {
      "text/plain": [
       "[<matplotlib.lines.Line2D at 0x7fc3574df910>]"
      ]
     },
     "execution_count": 12,
     "metadata": {},
     "output_type": "execute_result"
    },
    {
     "data": {
      "image/png": "[encoded data removed]",
      "text/plain": [
       "<Figure size 432x288 with 1 Axes>"
      ]
     },
     "metadata": {
      "needs_background": "light"
     },
     "output_type": "display_data"
    }
   ],
   "source": [
    "plt.plot(time[1:], J_cov)"
   ]
  },
  {
   "cell_type": "code",
   "execution_count": 29,
   "metadata": {},
   "outputs": [
    {
     "name": "stderr",
     "output_type": "stream",
     "text": [
      "/home/vetkje/home/vetkje/anaconda/lib/python3.7/site-packages/numba/core/ir_utils.py:2031: NumbaPendingDeprecationWarning: \u001b[1m\n",
      "Encountered the use of a type that is scheduled for deprecation: type 'reflected list' found for argument 'init_state' of function 'current_density_sample'.\n",
      "\n",
      "For more information visit http://numba.pydata.org/numba-doc/latest/reference/deprecation.html#deprecation-of-reflection-for-list-and-set-types\n",
      "\u001b[1m\n",
      "File \"<ipython-input-28-328abf404af0>\", line 122:\u001b[0m\n",
      "\u001b[1m@njit(parallel=True)\n",
      "\u001b[1mdef current_density_sample(n_sample:int, time: np.ndarray, init_state:int, L:np.ndarray, d: np.ndarray, V: np.ndarray):\n",
      "\u001b[0m\u001b[1m^\u001b[0m\u001b[0m\n",
      "\u001b[0m\n",
      "  warnings.warn(NumbaPendingDeprecationWarning(msg, loc=loc))\n",
      "/home/vetkje/home/vetkje/anaconda/lib/python3.7/site-packages/numba/core/ir_utils.py:2031: NumbaPendingDeprecationWarning: \u001b[1m\n",
      "Encountered the use of a type that is scheduled for deprecation: type 'reflected list' found for argument 'init__state' of function '__numba_parfor_gufunc_0x7fc35863fd50'.\n",
      "\n",
      "For more information visit http://numba.pydata.org/numba-doc/latest/reference/deprecation.html#deprecation-of-reflection-for-list-and-set-types\n",
      "\u001b[1m\n",
      "File \"<string>\", line 1:\u001b[0m\n",
      "\u001b[1m<source missing, REPL/exec in use?>\u001b[0m\n",
      "\u001b[0m\n",
      "  warnings.warn(NumbaPendingDeprecationWarning(msg, loc=loc))\n"
     ]
    },
    {
     "name": "stdout",
     "output_type": "stream",
     "text": [
      "############# SAMPLE DONE ################\n"
     ]
    }
   ],
   "source": [
    "V = np.array([1, 1, 0, 0, 0, 0])\n",
    "\n",
    "size = 50000\n",
    "\n",
    "for i in range(size):\n",
    "    in_state.append(initial_state(peq, states))\n",
    "Jmean, Jvar, rho_mean, rho_var, Jrho_cov = current_density_sample(size, np.linspace(0, 5, 200), in_state, L, d_matrix, V)"
   ]
  },
  {
   "cell_type": "code",
   "execution_count": 30,
   "metadata": {},
   "outputs": [
    {
     "data": {
      "text/plain": [
       "[<matplotlib.lines.Line2D at 0x7fc3584e2f10>]"
      ]
     },
     "execution_count": 30,
     "metadata": {},
     "output_type": "execute_result"
    },
    {
     "data": {
      "image/png": "[encoded data removed]",
      "text/plain": [
       "<Figure size 432x288 with 1 Axes>"
      ]
     },
     "metadata": {
      "needs_background": "light"
     },
     "output_type": "display_data"
    }
   ],
   "source": [
    "plt.plot(time[1:], Jrho_cov)"
   ]
  },
  {
   "cell_type": "code",
   "execution_count": 34,
   "metadata": {},
   "outputs": [
    {
     "name": "stdout",
     "output_type": "stream",
     "text": [
      "[ 1.76652515e+00  1.34219031e+00  1.11672066e+00  9.70795338e-01\n",
      "  8.62255032e-01  7.68999471e-01  6.87854722e-01  6.16621820e-01\n",
      "  5.57769021e-01  5.04676689e-01  4.54676747e-01  4.07503144e-01\n",
      "  3.65843141e-01  3.30783022e-01  3.00074116e-01  2.73520654e-01\n",
      "  2.46173585e-01  2.22945321e-01  2.02061576e-01  1.81816025e-01\n",
      "  1.63889989e-01  1.49642150e-01  1.35318594e-01  1.22205899e-01\n",
      "  1.10365432e-01  1.00130166e-01  9.14149901e-02  8.43088232e-02\n",
      "  7.75164583e-02  7.09569399e-02  6.55109641e-02  6.00658050e-02\n",
      "  5.45526958e-02  5.00755992e-02  4.55195094e-02  4.18274599e-02\n",
      "  3.78291969e-02  3.47172722e-02  3.20001586e-02  2.87198526e-02\n",
      "  2.62339372e-02  2.34329796e-02  2.15886198e-02  1.95781231e-02\n",
      "  1.84560220e-02  1.74144358e-02  1.55698799e-02  1.39637845e-02\n",
      "  1.29981335e-02  1.18722452e-02  1.09889745e-02  1.01088775e-02\n",
      "  9.07015752e-03  8.11055090e-03  7.39310942e-03  6.51696494e-03\n",
      "  5.72359019e-03  5.48642338e-03  4.76924845e-03  4.45843777e-03\n",
      "  4.05909721e-03  3.02038230e-03  2.53949498e-03  2.45589625e-03\n",
      "  2.37445383e-03  2.28989585e-03  2.13171548e-03  1.97435596e-03\n",
      "  1.81174250e-03  1.56776233e-03  1.24705666e-03  1.24871487e-03\n",
      "  8.44120922e-04  7.59623695e-04  6.84850012e-04  6.85459314e-04\n",
      "  6.02837328e-04  6.01104220e-04  6.03133502e-04  6.01607107e-04\n",
      "  5.22035074e-04  5.19616810e-04  5.16924866e-04  5.13814217e-04\n",
      "  5.08762550e-04  4.23657440e-04  4.16656317e-04  4.11393718e-04\n",
      "  3.28668110e-04  2.44678836e-04  2.41509265e-04  2.38647347e-04\n",
      "  1.59158740e-04  1.58245276e-04  1.57371904e-04  1.58014449e-04\n",
      "  1.60006830e-04  8.12790253e-05  8.19906936e-05  7.99878307e-05\n",
      "  7.92719020e-05  7.86056170e-05  7.90223234e-05  7.95582828e-05\n",
      "  7.92469550e-05 -8.54778875e-07 -7.01192190e-06 -7.27299359e-06\n",
      " -9.27465376e-06 -1.48592128e-05 -1.66583313e-05 -2.02465916e-05\n",
      " -1.98726097e-05 -2.00837564e-05 -2.14600096e-05 -1.98756711e-05\n",
      " -1.90979177e-05 -2.21864745e-05 -2.71754848e-05 -2.64715251e-05\n",
      " -2.34219632e-05 -2.25200204e-05 -1.94745925e-05 -1.80549789e-05\n",
      " -1.75725534e-05 -1.73918679e-05 -1.79776498e-05 -1.85028244e-05\n",
      " -1.79131082e-05 -1.58153964e-05 -1.31399751e-05 -1.24819347e-05\n",
      " -9.28511656e-06 -9.16917354e-06 -1.04171682e-05 -1.20479407e-05\n",
      " -1.08589806e-05 -1.23369821e-05 -1.17799597e-05 -9.70738835e-06\n",
      " -8.71219377e-06 -9.37459509e-06 -1.06243418e-05 -9.93164216e-06\n",
      " -1.07456736e-05 -1.04104591e-05 -1.19619581e-05 -1.43460896e-05\n",
      " -1.56947119e-05 -1.50080496e-05 -1.60120510e-05 -1.61160233e-05\n",
      " -1.41573353e-05 -1.32472360e-05 -1.32721319e-05 -1.30657961e-05\n",
      " -1.41101576e-05 -1.71116498e-05 -1.79026347e-05 -1.86984461e-05\n",
      " -1.87570019e-05 -1.80840493e-05 -1.94347920e-05 -1.93993620e-05\n",
      " -2.04292759e-05 -2.27650315e-05 -2.35295167e-05 -2.60073201e-05\n",
      " -2.93031000e-05 -2.92857196e-05 -2.99537892e-05 -2.99711054e-05\n",
      " -3.33515625e-05 -3.52273715e-05 -3.81817072e-05 -4.13082731e-05\n",
      " -4.22149862e-05 -4.04977243e-05 -4.00821051e-05 -3.82845589e-05\n",
      " -3.65399922e-05 -3.57152942e-05 -3.67308940e-05 -3.64366025e-05\n",
      " -3.66367173e-05 -3.83564722e-05 -3.95706150e-05 -4.12364080e-05\n",
      " -4.44995568e-05 -4.64505083e-05 -4.81214329e-05 -4.91701439e-05\n",
      " -5.09983544e-05 -5.36984174e-05 -5.63151566e-05 -5.70610126e-05\n",
      " -5.53218647e-05 -5.44328207e-05 -5.51816284e-05]\n"
     ]
    },
    {
     "data": {
      "text/plain": [
       "[<matplotlib.lines.Line2D at 0x7fc358e09450>]"
      ]
     },
     "execution_count": 34,
     "metadata": {},
     "output_type": "execute_result"
    },
    {
     "data": {
      "image/png": "[encoded data removed]",
      "text/plain": [
       "<Figure size 432x288 with 1 Axes>"
      ]
     },
     "metadata": {
      "needs_background": "light"
     },
     "output_type": "display_data"
    }
   ],
   "source": [
    "\n",
    "# plt.plot(time[1:], rho_mean)\n",
    "plt.plot(time[1:],rho_mean - np.ones_like(time[1:]) * (peq[0] + peq[1]))\n"
   ]
  },
  {
   "cell_type": "code",
   "execution_count": 18,
   "metadata": {},
   "outputs": [
    {
     "data": {
      "text/plain": [
       "[<matplotlib.lines.Line2D at 0x7f91ad4c5dd0>]"
      ]
     },
     "execution_count": 18,
     "metadata": {},
     "output_type": "execute_result"
    },
    {
     "data": {
      "image/png": "[encoded data removed]",
      "text/plain": [
       "<Figure size 432x288 with 1 Axes>"
      ]
     },
     "metadata": {
      "needs_background": "light"
     },
     "output_type": "display_data"
    }
   ],
   "source": [
    "t = np.linspace(0, 5, 20)\n",
    "\n",
    "def test_correlation(t, k, l):\n",
    "    res = 0\n",
    "\n",
    "    prop = la.expm(L * t)\n",
    "\n",
    "    return (peq[k] + peq[l]) * (prop[k, l] * L[l, k] - prop[l, k] * L[k, l])\n",
    "\n",
    "res = []\n",
    "\n",
    "for i in t:\n",
    "    res.append(test_correlation(i, 4, 5))\n",
    "\n",
    "plt.plot(t, res)\n"
   ]
  },
  {
   "cell_type": "code",
   "execution_count": 14,
   "metadata": {},
   "outputs": [
    {
     "name": "stdout",
     "output_type": "stream",
     "text": [
      "0.00   0.00   0.00   0.00   0.00   0.00   \n",
      "\n",
      "0.00   0.00   0.00   0.00   0.00   -1.00   \n",
      "\n",
      "0.00   0.00   0.00   0.00   0.00   0.00   \n",
      "\n",
      "0.00   0.00   0.00   0.00   0.00   0.00   \n",
      "\n",
      "0.00   0.00   0.00   0.00   0.00   -1.00   \n",
      "\n",
      "0.00   1.00   0.00   0.00   1.00   0.00   \n",
      "\n"
     ]
    }
   ],
   "source": [
    "# d_matrix = np.array([[0, 1, 0, 1, 1, 0], [-1, 0, 0, 0, 0, 1], [0, 0, 0, 0, 0, 0], [-1, 0, 0, 0, 0, 0], [-1, 0, 0, 0, 0, 1], [0, -1, 0, 0, -1, 0]])\n",
    "d_matrix = np.array([[0, 0, 0, 0, 0, 0], [0, 0, 0, 0, 0, -1], [0, 0, 0, 0, 0, 0], [0, 0, 0, 0, 0, 0], [0, 0, 0, 0, 0, -1], [0, 1, 0, 0, 1, 0]])\n",
    "\n",
    "frame.printMatrix(d_matrix)\n"
   ]
  }
 ],
 "metadata": {
  "kernelspec": {
   "display_name": "Python 3.7.6 ('base')",
   "language": "python",
   "name": "python3"
  },
  "language_info": {
   "codemirror_mode": {
    "name": "ipython",
    "version": 3
   },
   "file_extension": ".py",
   "mimetype": "text/x-python",
   "name": "python",
   "nbconvert_exporter": "python",
   "pygments_lexer": "ipython3",
   "version": "3.7.6"
  },
  "orig_nbformat": 4,
  "vscode": {
   "interpreter": {
    "hash": "e378eb246c89026942cae722609b9d81a0b7cca2e8a7f6ea4d8ff60d57d2536e"
   }
  }
 },
 "nbformat": 4,
 "nbformat_minor": 2
}
