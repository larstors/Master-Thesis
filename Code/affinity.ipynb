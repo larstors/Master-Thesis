{
 "cells": [
  {
   "cell_type": "code",
   "execution_count": 44,
   "metadata": {},
   "outputs": [],
   "source": [
    "import numpy as np\n",
    "import matplotlib.pyplot as plt\n",
    "import scipy as sc\n",
    "import numpy.random as rn\n",
    "import networkx as nx\n",
    "import my_networkx as my_nx\n",
    "\n",
    "G = nx.DiGraph() "
   ]
  },
  {
   "cell_type": "code",
   "execution_count": 46,
   "metadata": {},
   "outputs": [
    {
     "name": "stdout",
     "output_type": "stream",
     "text": [
      "[[0 1 0 0 0 0]\n",
      " [1 0 1 0 1 0]\n",
      " [0 1 0 1 0 0]\n",
      " [0 0 1 0 1 0]\n",
      " [0 1 0 1 0 1]\n",
      " [0 0 0 0 1 0]]\n"
     ]
    }
   ],
   "source": [
    "A = np.array([[0, 1, 0, 0, 0, 0],[1, 0, 1, 0, 1, 0],[0, 1, 0, 1, 0, 0],[0, 0, 1, 0, 1, 0],[0, 1, 0, 1, 0, 1],[0, 0, 0, 0, 1, 0]])\n",
    "print(A)"
   ]
  },
  {
   "cell_type": "code",
   "execution_count": 70,
   "metadata": {},
   "outputs": [
    {
     "ename": "SyntaxError",
     "evalue": "invalid syntax (<ipython-input-70-de5991e9d539>, line 8)",
     "output_type": "error",
     "traceback": [
      "\u001b[1;36m  File \u001b[1;32m\"<ipython-input-70-de5991e9d539>\"\u001b[1;36m, line \u001b[1;32m8\u001b[0m\n\u001b[1;33m    edges.append((i+1, j+1, weight=weight[i,j], {\"w\":r\"$r_{%d%d}$\" % (i+1, j+1)}))\u001b[0m\n\u001b[1;37m                                  ^\u001b[0m\n\u001b[1;31mSyntaxError\u001b[0m\u001b[1;31m:\u001b[0m invalid syntax\n"
     ]
    }
   ],
   "source": [
    "def plot_network(A, w=np.ones_like(A), position={1:(0,0),2:(1,0),3:(2,1),4:(3,0),5:(2,-1),6:(2,0)}, name=\"figures/Example_Calmodulin_1.pdf\"):\n",
    "    edges = []\n",
    "\n",
    "    for i in range(6): \n",
    "        for j in range(6): \n",
    "            if A[i, j] == 1: \n",
    "                #G.add_edge(i,j)\n",
    "                edges.append((i+1, j+1, weight=w[i,j], {\"w\":r\"$r_{%d%d}$\" % (i+1, j+1)}))\n",
    "        G.add_node(i+1)\n",
    "\n",
    "    G.add_edges_from(edges)\n",
    "\n",
    "\n",
    "    fixed_positions = {1:(0,0),2:(1,0),3:(2,1),4:(3,0),5:(2,-1),6:(2,0)}#dict with two of the positions set\n",
    "    fixed_nodes = fixed_positions.keys()\n",
    "    pos = nx.spring_layout(G, pos=fixed_positions, fixed=fixed_nodes)\n",
    "\n",
    "    node_sizes = [3 + 10 * i for i in range(len(G))]\n",
    "    M = G.number_of_edges()\n",
    "    edge_colors = range(2, M + 2)\n",
    "    edge_alphas = [(5 + i) / (M + 4) for i in range(M)]\n",
    "    cmap = plt.cm.plasma\n",
    "\n",
    "    fig, ax = plt.subplots(figsize=(15, 10))\n",
    "    nx.draw_networkx_nodes(G, pos, ax=ax, node_size=3000, edgecolors=\"k\")\n",
    "    nx.draw_networkx_labels(G, pos, ax=ax, font_size=30)\n",
    "\n",
    "    curved_edges = [edge for edge in G.edges() if reversed(edge) in G.edges()]\n",
    "    straight_edges = list(set(G.edges()) - set(curved_edges))\n",
    "    nx.draw_networkx_edges(G, pos, ax=ax, edgelist=straight_edges, arrowstyle=\"<|-\", width=5, node_size=3000)\n",
    "    arc_rad = 0.25\n",
    "    nx.draw_networkx_edges(G, pos, ax=ax, edgelist=curved_edges, connectionstyle=f'arc3, rad = {arc_rad}', arrowstyle=\"<|-\", width=2, node_size=3000)\n",
    "\n",
    "    edge_weights = nx.get_edge_attributes(G,'w')\n",
    "    curved_edge_labels = {edge: edge_weights[edge] for edge in curved_edges}\n",
    "    straight_edge_labels = {edge: edge_weights[edge] for edge in straight_edges}\n",
    "    my_nx.my_draw_networkx_edge_labels(G, pos, ax=ax, edge_labels=curved_edge_labels,rotate=False,rad = arc_rad, font_size=20)\n",
    "    nx.draw_networkx_edge_labels(G, pos, ax=ax, edge_labels=straight_edge_labels,rotate=False)\n",
    "    plt.savefig(name, dpi=500, bbox_inches=\"tight\")\n",
    "\n",
    "plot_network(A)"
   ]
  },
  {
   "cell_type": "code",
   "execution_count": 3,
   "metadata": {},
   "outputs": [
    {
     "name": "stdout",
     "output_type": "stream",
     "text": [
      "[1.08043414 1.77675376 2.33751699 1.05233855 0.853644   0.91091134]\n"
     ]
    }
   ],
   "source": [
    "energies = rn.exponential(1, size=(6))\n",
    "print(energies)"
   ]
  },
  {
   "cell_type": "code",
   "execution_count": 4,
   "metadata": {},
   "outputs": [],
   "source": [
    "peq = np.exp(-energies)\n",
    "Z = np.sum(peq)\n",
    "peq = peq/Z"
   ]
  },
  {
   "cell_type": "code",
   "execution_count": 5,
   "metadata": {},
   "outputs": [
    {
     "name": "stdout",
     "output_type": "stream",
     "text": [
      "[[0.43640673 0.         0.         0.         0.         0.        ]\n",
      " [0.         0.30809706 0.         0.         0.         0.        ]\n",
      " [0.         0.         0.23276591 0.         0.         0.        ]\n",
      " [0.         0.         0.         0.44258055 0.         0.        ]\n",
      " [0.         0.         0.         0.         0.48880799 0.        ]\n",
      " [0.         0.         0.         0.         0.         0.47501011]]\n"
     ]
    }
   ],
   "source": [
    "N = len(peq)\n",
    "Pmatrix = np.zeros((N, N))\n",
    "for i in range(N):\n",
    "    Pmatrix[i, i] = np.sqrt(peq[i])\n",
    "\n",
    "print(Pmatrix)"
   ]
  },
  {
   "cell_type": "code",
   "execution_count": 6,
   "metadata": {},
   "outputs": [
    {
     "name": "stdout",
     "output_type": "stream",
     "text": [
      "[[ -5.91063786   4.17282785   0.           0.           0.\n",
      "    0.        ]\n",
      " [  4.17282785 -15.64963812   7.82352619   0.           3.72549182\n",
      "    0.        ]\n",
      " [  0.           7.82352619  -8.77497955   5.44625256   0.\n",
      "    0.        ]\n",
      " [  0.           0.           5.44625256 -12.7036799    2.5934558\n",
      "    0.        ]\n",
      " [  0.           3.72549182   0.           2.5934558  -11.26156718\n",
      "    2.4163972 ]\n",
      " [  0.           0.           0.           0.           2.4163972\n",
      "   -2.34818807]]\n",
      "[-2.35646144e+01 -1.41502738e+01 -1.13673361e+01 -5.60752857e+00\n",
      " -1.95893785e+00 -2.80409745e-15]\n",
      "[[-2.35646144e+01 -1.07552856e-15 -7.85482790e-15  2.06952511e-15\n",
      "  -7.07767178e-16 -1.15661824e-15]\n",
      " [ 7.00828284e-16 -1.41502738e+01  4.45476989e-15  1.24379673e-15\n",
      "  -1.21430643e-15  3.34422134e-15]\n",
      " [-7.79931675e-15  4.57966998e-15 -1.13673361e+01 -1.38777878e-16\n",
      "  -7.21644966e-16 -6.85071384e-16]\n",
      " [ 2.55351296e-15  1.10675358e-15 -2.77555756e-16 -5.60752857e+00\n",
      "  -4.57966998e-16  2.03905248e-15]\n",
      " [ 4.44089210e-16 -1.38777878e-15  0.00000000e+00 -6.10622664e-16\n",
      "  -1.95893785e+00 -1.41533766e-15]\n",
      " [-2.88657986e-15  3.49720253e-15 -1.11022302e-15  1.73472348e-15\n",
      "  -9.99200722e-16  5.34981430e-16]]\n"
     ]
    }
   ],
   "source": [
    "L = np.zeros((N, N))\n",
    "\n",
    "for i in range(N):\n",
    "    for j in range(N):\n",
    "        if A[i, j] == 1:\n",
    "            L[i, j] = np.exp(energies[j])\n",
    "    L[i, i] = - np.sum(L[i, :])\n",
    "\n",
    "Ls = np.matmul(np.linalg.inv(Pmatrix), np.matmul(L, Pmatrix))\n",
    "print(Ls)\n",
    "\n",
    "ew, ev = np.linalg.eigh(Ls)\n",
    "print(ew)\n",
    "\n",
    "D = np.matmul(ev.T, np.matmul(Ls, ev))\n",
    "print(D)\n",
    "\n"
   ]
  },
  {
   "cell_type": "code",
   "execution_count": null,
   "metadata": {},
   "outputs": [],
   "source": []
  }
 ],
 "metadata": {
  "kernelspec": {
   "display_name": "base",
   "language": "python",
   "name": "python3"
  },
  "language_info": {
   "codemirror_mode": {
    "name": "ipython",
    "version": 3
   },
   "file_extension": ".py",
   "mimetype": "text/x-python",
   "name": "python",
   "nbconvert_exporter": "python",
   "pygments_lexer": "ipython3",
   "version": "3.8.5"
  }
 },
 "nbformat": 4,
 "nbformat_minor": 2
}
