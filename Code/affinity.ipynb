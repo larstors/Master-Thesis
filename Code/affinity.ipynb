{
 "cells": [
  {
   "cell_type": "code",
   "execution_count": 4,
   "metadata": {},
   "outputs": [],
   "source": [
    "import numpy as np\n",
    "import matplotlib.pyplot as plt\n",
    "import scipy as sc\n",
    "import numpy.random as rn\n",
    "import networkx as nx\n"
   ]
  },
  {
   "cell_type": "code",
   "execution_count": 3,
   "metadata": {},
   "outputs": [
    {
     "name": "stdout",
     "output_type": "stream",
     "text": [
      "[[0 1 0 0 0 0]\n",
      " [1 0 1 0 1 0]\n",
      " [0 1 0 1 0 0]\n",
      " [0 0 1 0 1 0]\n",
      " [0 1 0 1 0 1]\n",
      " [0 0 0 0 1 0]]\n"
     ]
    }
   ],
   "source": [
    "A = np.array([[0, 1, 0, 0, 0, 0],[1, 0, 1, 0, 1, 0],[0, 1, 0, 1, 0, 0],[0, 0, 1, 0, 1, 0],[0, 1, 0, 1, 0, 1],[0, 0, 0, 0, 1, 0]])\n",
    "print(A)"
   ]
  },
  {
   "cell_type": "code",
   "execution_count": 21,
   "metadata": {},
   "outputs": [
    {
     "name": "stdout",
     "output_type": "stream",
     "text": [
      "[0.08355668 0.68561675 0.90880733 0.53774405 0.31794683 0.37527759]\n"
     ]
    }
   ],
   "source": [
    "energies = rn.exponential(1, size=(6))\n",
    "print(energies)"
   ]
  },
  {
   "cell_type": "code",
   "execution_count": 22,
   "metadata": {},
   "outputs": [],
   "source": [
    "peq = np.exp(-energies)\n",
    "Z = np.sum(peq)\n",
    "peq = peq/Z"
   ]
  },
  {
   "cell_type": "code",
   "execution_count": 24,
   "metadata": {},
   "outputs": [
    {
     "name": "stdout",
     "output_type": "stream",
     "text": [
      "[[0.490361   0.         0.         0.         0.         0.        ]\n",
      " [0.         0.36289437 0.         0.         0.         0.        ]\n",
      " [0.         0.         0.32457496 0.         0.         0.        ]\n",
      " [0.         0.         0.         0.39074226 0.         0.        ]\n",
      " [0.         0.         0.         0.         0.43613279 0.        ]\n",
      " [0.         0.         0.         0.         0.         0.42380837]]\n"
     ]
    }
   ],
   "source": [
    "N = len(peq)\n",
    "Pmatrix = np.zeros((N, N))\n",
    "for i in range(N):\n",
    "    Pmatrix[i, i] = np.sqrt(peq[i])\n",
    "\n",
    "print(Pmatrix)"
   ]
  },
  {
   "cell_type": "code",
   "execution_count": 35,
   "metadata": {},
   "outputs": [
    {
     "name": "stdout",
     "output_type": "stream",
     "text": [
      "[[-1.9849957   1.46900707  0.          0.          0.          0.        ]\n",
      " [ 1.46900707 -4.94281135  2.21934485  0.          1.65166156  0.        ]\n",
      " [ 0.          2.21934485 -3.6971357   2.06117394  0.          0.        ]\n",
      " [ 0.          0.          2.06117394 -3.85566452  1.53394898  0.        ]\n",
      " [ 0.          1.65166156  0.          1.53394898 -5.15253107  1.41426818]\n",
      " [ 0.          0.          0.          0.          1.41426818 -1.37430319]]\n",
      "[-8.40733588e+00 -5.08212840e+00 -4.59498810e+00 -1.83079608e+00\n",
      " -1.09219305e+00 -1.45627060e-16]\n",
      "[[-8.40733588e+00  8.32667268e-17  9.08995101e-16 -9.57567359e-16\n",
      "   9.71445147e-17  1.83066610e-16]\n",
      " [ 6.38378239e-16 -5.08212840e+00 -1.47104551e-15 -3.88578059e-16\n",
      "  -8.32667268e-17 -2.54423408e-17]\n",
      " [ 1.33226763e-15 -1.58206781e-15 -4.59498810e+00  1.42247325e-15\n",
      "  -7.35522754e-16 -4.88478953e-17]\n",
      " [-2.22044605e-16 -3.33066907e-16  1.30451205e-15 -1.83079608e+00\n",
      "  -2.22044605e-16 -3.71353781e-17]\n",
      " [-3.33066907e-16  2.22044605e-16 -9.99200722e-16 -1.66533454e-16\n",
      "  -1.09219305e+00 -3.37189962e-16]\n",
      " [-6.66133815e-16 -5.55111512e-16 -6.93889390e-16  2.77555756e-17\n",
      "  -1.66533454e-16 -4.25649826e-16]]\n"
     ]
    }
   ],
   "source": [
    "L = np.zeros((N, N))\n",
    "\n",
    "for i in range(N):\n",
    "    for j in range(N):\n",
    "        if A[i, j] == 1:\n",
    "            L[i, j] = np.exp(energies[j])\n",
    "    L[i, i] = - np.sum(L[i, :])\n",
    "\n",
    "Ls = np.matmul(np.linalg.inv(Pmatrix), np.matmul(L, Pmatrix))\n",
    "print(Ls)\n",
    "\n",
    "ew, ev = np.linalg.eigh(Ls)\n",
    "print(ew)\n",
    "\n",
    "D = np.matmul(ev.T, np.matmul(Ls, ev))\n",
    "print(D)\n",
    "\n"
   ]
  },
  {
   "cell_type": "code",
   "execution_count": null,
   "metadata": {},
   "outputs": [],
   "source": []
  }
 ],
 "metadata": {
  "kernelspec": {
   "display_name": "base",
   "language": "python",
   "name": "python3"
  },
  "language_info": {
   "codemirror_mode": {
    "name": "ipython",
    "version": 3
   },
   "file_extension": ".py",
   "mimetype": "text/x-python",
   "name": "python",
   "nbconvert_exporter": "python",
   "pygments_lexer": "ipython3",
   "version": "3.8.5"
  }
 },
 "nbformat": 4,
 "nbformat_minor": 2
}
